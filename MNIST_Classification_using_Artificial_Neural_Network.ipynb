{
  "cells": [
    {
      "cell_type": "code",
      "execution_count": 1,
      "metadata": {
        "id": "1lYCnnSbIS1w"
      },
      "outputs": [],
      "source": [
        "import tensorflow\n",
        "import numpy as np\n",
        "import matplotlib.pyplot as plt"
      ]
    },
    {
      "cell_type": "code",
      "execution_count": 2,
      "metadata": {
        "id": "KP4_cu57IfXf"
      },
      "outputs": [],
      "source": [
        "from tensorflow import keras"
      ]
    },
    {
      "cell_type": "code",
      "execution_count": 3,
      "metadata": {
        "id": "yMrFJLhhIg5f"
      },
      "outputs": [],
      "source": [
        "from tensorflow.keras import Sequential\n",
        "from tensorflow.keras.layers import Dense, Flatten"
      ]
    },
    {
      "cell_type": "code",
      "execution_count": 4,
      "metadata": {
        "id": "q7ynKbrzIvYb",
        "colab": {
          "base_uri": "https://localhost:8080/"
        },
        "outputId": "370e9b88-e817-43ea-efaa-3e4ccf3c7c83"
      },
      "outputs": [
        {
          "output_type": "stream",
          "name": "stdout",
          "text": [
            "Downloading data from https://storage.googleapis.com/tensorflow/tf-keras-datasets/mnist.npz\n",
            "11490434/11490434 [==============================] - 0s 0us/step\n"
          ]
        }
      ],
      "source": [
        "(X_train, y_train), (X_test, y_test) = keras.datasets.mnist.load_data()"
      ]
    },
    {
      "cell_type": "code",
      "execution_count": 5,
      "metadata": {
        "colab": {
          "base_uri": "https://localhost:8080/",
          "height": 282
        },
        "id": "c8AHI5U5NNvz",
        "outputId": "762d9679-d9bb-4efa-84ab-342aef7a6dbf"
      },
      "outputs": [
        {
          "output_type": "execute_result",
          "data": {
            "text/plain": [
              "<matplotlib.image.AxesImage at 0x7f2f3b0ef040>"
            ]
          },
          "metadata": {},
          "execution_count": 5
        },
        {
          "output_type": "display_data",
          "data": {
            "text/plain": [
              "<Figure size 432x288 with 1 Axes>"
            ],
            "image/png": "[encoded data removed]"
          },
          "metadata": {
            "needs_background": "light"
          }
        }
      ],
      "source": [
        "plt.imshow(X_train[0])"
      ]
    },
    {
      "cell_type": "code",
      "execution_count": 6,
      "metadata": {
        "colab": {
          "base_uri": "https://localhost:8080/"
        },
        "id": "3YGjIlYfNgNK",
        "outputId": "16c1bb81-e896-4bac-fc97-ec41391c6307"
      },
      "outputs": [
        {
          "output_type": "execute_result",
          "data": {
            "text/plain": [
              "5"
            ]
          },
          "metadata": {},
          "execution_count": 6
        }
      ],
      "source": [
        "y_train[0]"
      ]
    },
    {
      "cell_type": "code",
      "execution_count": 7,
      "metadata": {
        "colab": {
          "base_uri": "https://localhost:8080/"
        },
        "id": "h_Mtsse-NPSG",
        "outputId": "210f824f-bfa9-4b8c-89e6-d122e7755b4e"
      },
      "outputs": [
        {
          "output_type": "execute_result",
          "data": {
            "text/plain": [
              "(60000, 28, 28)"
            ]
          },
          "metadata": {},
          "execution_count": 7
        }
      ],
      "source": [
        "X_train.shape"
      ]
    },
    {
      "cell_type": "code",
      "execution_count": 8,
      "metadata": {
        "colab": {
          "base_uri": "https://localhost:8080/"
        },
        "id": "qdoZr8PONUMu",
        "outputId": "abd78170-3578-49d9-f09c-1b4b2bfdcd8a"
      },
      "outputs": [
        {
          "output_type": "execute_result",
          "data": {
            "text/plain": [
              "(10000, 28, 28)"
            ]
          },
          "metadata": {},
          "execution_count": 8
        }
      ],
      "source": [
        "X_test.shape"
      ]
    },
    {
      "cell_type": "code",
      "execution_count": 9,
      "metadata": {
        "colab": {
          "base_uri": "https://localhost:8080/",
          "height": 282
        },
        "id": "XuLQHnJENWAS",
        "outputId": "dda613ad-057c-46f7-e348-5d41767bd25e"
      },
      "outputs": [
        {
          "output_type": "execute_result",
          "data": {
            "text/plain": [
              "<matplotlib.image.AxesImage at 0x7f2f3abb7820>"
            ]
          },
          "metadata": {},
          "execution_count": 9
        },
        {
          "output_type": "display_data",
          "data": {
            "text/plain": [
              "<Figure size 432x288 with 1 Axes>"
            ],
            "image/png": "[encoded data removed]"
          },
          "metadata": {
            "needs_background": "light"
          }
        }
      ],
      "source": [
        "plt.imshow(X_test[0])"
      ]
    },
    {
      "cell_type": "code",
      "execution_count": 10,
      "metadata": {
        "colab": {
          "base_uri": "https://localhost:8080/"
        },
        "id": "OmRtZDjoNXcz",
        "outputId": "bfe15301-5ece-49b8-81f9-a2c705e387c7"
      },
      "outputs": [
        {
          "output_type": "execute_result",
          "data": {
            "text/plain": [
              "7"
            ]
          },
          "metadata": {},
          "execution_count": 10
        }
      ],
      "source": [
        "y_test[0]"
      ]
    },
    {
      "cell_type": "code",
      "execution_count": 11,
      "metadata": {
        "id": "yDjsMCSpNdno"
      },
      "outputs": [],
      "source": [
        "X_train = X_train/255"
      ]
    },
    {
      "cell_type": "code",
      "execution_count": 12,
      "metadata": {
        "id": "CS7vDzj5NpRD"
      },
      "outputs": [],
      "source": [
        "X_test = X_test/255"
      ]
    },
    {
      "cell_type": "code",
      "execution_count": 13,
      "metadata": {
        "colab": {
          "base_uri": "https://localhost:8080/",
          "height": 282
        },
        "id": "ucEYwOZjNr_m",
        "outputId": "f6417401-4d03-4cd5-fc2a-4dd8fb0b6f69"
      },
      "outputs": [
        {
          "output_type": "execute_result",
          "data": {
            "text/plain": [
              "<matplotlib.image.AxesImage at 0x7f2f3ab9c520>"
            ]
          },
          "metadata": {},
          "execution_count": 13
        },
        {
          "output_type": "display_data",
          "data": {
            "text/plain": [
              "<Figure size 432x288 with 1 Axes>"
            ],
            "image/png": "[encoded data removed]"
          },
          "metadata": {
            "needs_background": "light"
          }
        }
      ],
      "source": [
        "plt.imshow(X_train[0])"
      ]
    },
    {
      "cell_type": "code",
      "execution_count": 14,
      "metadata": {
        "colab": {
          "base_uri": "https://localhost:8080/"
        },
        "id": "HfoF309gN4j8",
        "outputId": "88d1af72-61df-412c-9faf-c7db8033cd28"
      },
      "outputs": [
        {
          "output_type": "execute_result",
          "data": {
            "text/plain": [
              "5"
            ]
          },
          "metadata": {},
          "execution_count": 14
        }
      ],
      "source": [
        "y_train[0]"
      ]
    },
    {
      "cell_type": "code",
      "execution_count": 15,
      "metadata": {
        "colab": {
          "base_uri": "https://localhost:8080/",
          "height": 282
        },
        "id": "81So6YoVNtFC",
        "outputId": "edff26e6-7517-4b8e-ef16-2d2d9cbf3280"
      },
      "outputs": [
        {
          "output_type": "execute_result",
          "data": {
            "text/plain": [
              "<matplotlib.image.AxesImage at 0x7f2f3e4d47f0>"
            ]
          },
          "metadata": {},
          "execution_count": 15
        },
        {
          "output_type": "display_data",
          "data": {
            "text/plain": [
              "<Figure size 432x288 with 1 Axes>"
            ],
            "image/png": "[encoded data removed]"
          },
          "metadata": {
            "needs_background": "light"
          }
        }
      ],
      "source": [
        "plt.imshow(X_test[0])"
      ]
    },
    {
      "cell_type": "code",
      "execution_count": 16,
      "metadata": {
        "colab": {
          "base_uri": "https://localhost:8080/"
        },
        "id": "1nqPVD1MNyye",
        "outputId": "a724124e-2e37-407d-bc78-5293c760966d"
      },
      "outputs": [
        {
          "output_type": "execute_result",
          "data": {
            "text/plain": [
              "7"
            ]
          },
          "metadata": {},
          "execution_count": 16
        }
      ],
      "source": [
        "y_test[0]"
      ]
    },
    {
      "cell_type": "code",
      "execution_count": 17,
      "metadata": {
        "id": "dF9BYNuvN9YF"
      },
      "outputs": [],
      "source": [
        "model = Sequential()\n",
        "model.add(Flatten(input_shape=(28,28)))\n",
        "model.add(Dense(128,activation='relu'))\n",
        "model.add(Dense(10,activation='softmax'))"
      ]
    },
    {
      "cell_type": "code",
      "execution_count": 18,
      "metadata": {
        "colab": {
          "base_uri": "https://localhost:8080/"
        },
        "id": "ndAaG5T9PdJw",
        "outputId": "ff334c3a-fd2b-4531-946d-c776f06074ad"
      },
      "outputs": [
        {
          "output_type": "stream",
          "name": "stdout",
          "text": [
            "Model: \"sequential\"\n",
            "_________________________________________________________________\n",
            " Layer (type)                Output Shape              Param #   \n",
            "=================================================================\n",
            " flatten (Flatten)           (None, 784)               0         \n",
            "                                                                 \n",
            " dense (Dense)               (None, 128)               100480    \n",
            "                                                                 \n",
            " dense_1 (Dense)             (None, 10)                1290      \n",
            "                                                                 \n",
            "=================================================================\n",
            "Total params: 101,770\n",
            "Trainable params: 101,770\n",
            "Non-trainable params: 0\n",
            "_________________________________________________________________\n"
          ]
        }
      ],
      "source": [
        "model.summary()"
      ]
    },
    {
      "cell_type": "code",
      "execution_count": 19,
      "metadata": {
        "id": "lWhRVWWKPe-y"
      },
      "outputs": [],
      "source": [
        "model.compile(\n",
        "    loss='sparse_categorical_crossentropy',\n",
        "    optimizer='Adam',\n",
        "    metrics=['accuracy']\n",
        ")"
      ]
    },
    {
      "cell_type": "code",
      "execution_count": 26,
      "metadata": {
        "colab": {
          "base_uri": "https://localhost:8080/"
        },
        "id": "kULpSfdYQdrk",
        "outputId": "da40012c-1738-46d1-f217-8402db64067e"
      },
      "outputs": [
        {
          "output_type": "stream",
          "name": "stdout",
          "text": [
            "Epoch 1/50\n",
            "1500/1500 [==============================] - 6s 4ms/step - loss: 7.2081e-05 - accuracy: 1.0000 - val_loss: 0.1658 - val_accuracy: 0.9778\n",
            "Epoch 2/50\n",
            "1500/1500 [==============================] - 9s 6ms/step - loss: 0.0062 - accuracy: 0.9983 - val_loss: 0.1834 - val_accuracy: 0.9766\n",
            "Epoch 3/50\n",
            "1500/1500 [==============================] - 5s 3ms/step - loss: 0.0028 - accuracy: 0.9991 - val_loss: 0.1844 - val_accuracy: 0.9758\n",
            "Epoch 4/50\n",
            "1500/1500 [==============================] - 6s 4ms/step - loss: 3.1885e-04 - accuracy: 0.9999 - val_loss: 0.1661 - val_accuracy: 0.9786\n",
            "Epoch 5/50\n",
            "1500/1500 [==============================] - 5s 3ms/step - loss: 0.0039 - accuracy: 0.9989 - val_loss: 0.2012 - val_accuracy: 0.9772\n",
            "Epoch 6/50\n",
            "1500/1500 [==============================] - 7s 4ms/step - loss: 0.0037 - accuracy: 0.9989 - val_loss: 0.1729 - val_accuracy: 0.9782\n",
            "Epoch 7/50\n",
            "1500/1500 [==============================] - 10s 6ms/step - loss: 2.8742e-04 - accuracy: 0.9999 - val_loss: 0.1660 - val_accuracy: 0.9789\n",
            "Epoch 8/50\n",
            "1500/1500 [==============================] - 8s 5ms/step - loss: 3.2503e-05 - accuracy: 1.0000 - val_loss: 0.1675 - val_accuracy: 0.9793\n",
            "Epoch 9/50\n",
            "1500/1500 [==============================] - 5s 3ms/step - loss: 1.6023e-05 - accuracy: 1.0000 - val_loss: 0.1688 - val_accuracy: 0.9792\n",
            "Epoch 10/50\n",
            "1500/1500 [==============================] - 8s 5ms/step - loss: 1.1466e-05 - accuracy: 1.0000 - val_loss: 0.1699 - val_accuracy: 0.9794\n",
            "Epoch 11/50\n",
            "1500/1500 [==============================] - 10s 7ms/step - loss: 8.3104e-06 - accuracy: 1.0000 - val_loss: 0.1717 - val_accuracy: 0.9794\n",
            "Epoch 12/50\n",
            "1500/1500 [==============================] - 9s 6ms/step - loss: 0.0072 - accuracy: 0.9980 - val_loss: 0.1920 - val_accuracy: 0.9768\n",
            "Epoch 13/50\n",
            "1500/1500 [==============================] - 6s 4ms/step - loss: 0.0025 - accuracy: 0.9992 - val_loss: 0.1948 - val_accuracy: 0.9777\n",
            "Epoch 14/50\n",
            "1500/1500 [==============================] - 6s 4ms/step - loss: 0.0010 - accuracy: 0.9997 - val_loss: 0.1708 - val_accuracy: 0.9789\n",
            "Epoch 15/50\n",
            "1500/1500 [==============================] - 7s 5ms/step - loss: 4.5766e-05 - accuracy: 1.0000 - val_loss: 0.1732 - val_accuracy: 0.9786\n",
            "Epoch 16/50\n",
            "1500/1500 [==============================] - 5s 4ms/step - loss: 3.5987e-05 - accuracy: 1.0000 - val_loss: 0.1764 - val_accuracy: 0.9790\n",
            "Epoch 17/50\n",
            "1500/1500 [==============================] - 5s 3ms/step - loss: 1.1724e-05 - accuracy: 1.0000 - val_loss: 0.1746 - val_accuracy: 0.9793\n",
            "Epoch 18/50\n",
            "1500/1500 [==============================] - 6s 4ms/step - loss: 6.7518e-06 - accuracy: 1.0000 - val_loss: 0.1750 - val_accuracy: 0.9791\n",
            "Epoch 19/50\n",
            "1500/1500 [==============================] - 5s 3ms/step - loss: 4.9230e-06 - accuracy: 1.0000 - val_loss: 0.1781 - val_accuracy: 0.9805\n",
            "Epoch 20/50\n",
            "1500/1500 [==============================] - 5s 3ms/step - loss: 0.0081 - accuracy: 0.9978 - val_loss: 0.1912 - val_accuracy: 0.9780\n",
            "Epoch 21/50\n",
            "1500/1500 [==============================] - 6s 4ms/step - loss: 0.0011 - accuracy: 0.9997 - val_loss: 0.1863 - val_accuracy: 0.9786\n",
            "Epoch 22/50\n",
            "1500/1500 [==============================] - 5s 3ms/step - loss: 0.0023 - accuracy: 0.9994 - val_loss: 0.2060 - val_accuracy: 0.9769\n",
            "Epoch 23/50\n",
            "1500/1500 [==============================] - 6s 4ms/step - loss: 0.0040 - accuracy: 0.9988 - val_loss: 0.1875 - val_accuracy: 0.9774\n",
            "Epoch 24/50\n",
            "1500/1500 [==============================] - 5s 3ms/step - loss: 4.8409e-04 - accuracy: 0.9999 - val_loss: 0.1809 - val_accuracy: 0.9791\n",
            "Epoch 25/50\n",
            "1500/1500 [==============================] - 6s 4ms/step - loss: 0.0028 - accuracy: 0.9991 - val_loss: 0.2212 - val_accuracy: 0.9753\n",
            "Epoch 26/50\n",
            "1500/1500 [==============================] - 5s 3ms/step - loss: 0.0023 - accuracy: 0.9992 - val_loss: 0.2046 - val_accuracy: 0.9790\n",
            "Epoch 27/50\n",
            "1500/1500 [==============================] - 6s 4ms/step - loss: 0.0015 - accuracy: 0.9994 - val_loss: 0.2245 - val_accuracy: 0.9759\n",
            "Epoch 28/50\n",
            "1500/1500 [==============================] - 5s 3ms/step - loss: 0.0024 - accuracy: 0.9992 - val_loss: 0.2095 - val_accuracy: 0.9781\n",
            "Epoch 29/50\n",
            "1500/1500 [==============================] - 5s 3ms/step - loss: 0.0021 - accuracy: 0.9994 - val_loss: 0.2158 - val_accuracy: 0.9772\n",
            "Epoch 30/50\n",
            "1500/1500 [==============================] - 6s 4ms/step - loss: 0.0021 - accuracy: 0.9992 - val_loss: 0.2223 - val_accuracy: 0.9762\n",
            "Epoch 31/50\n",
            "1500/1500 [==============================] - 5s 3ms/step - loss: 0.0019 - accuracy: 0.9995 - val_loss: 0.2202 - val_accuracy: 0.9775\n",
            "Epoch 32/50\n",
            "1500/1500 [==============================] - 6s 4ms/step - loss: 0.0013 - accuracy: 0.9997 - val_loss: 0.2208 - val_accuracy: 0.9772\n",
            "Epoch 33/50\n",
            "1500/1500 [==============================] - 5s 4ms/step - loss: 0.0036 - accuracy: 0.9991 - val_loss: 0.2163 - val_accuracy: 0.9772\n",
            "Epoch 34/50\n",
            "1500/1500 [==============================] - 6s 4ms/step - loss: 4.8331e-04 - accuracy: 0.9999 - val_loss: 0.2040 - val_accuracy: 0.9785\n",
            "Epoch 35/50\n",
            "1500/1500 [==============================] - 5s 3ms/step - loss: 1.6853e-05 - accuracy: 1.0000 - val_loss: 0.2032 - val_accuracy: 0.9791\n",
            "Epoch 36/50\n",
            "1500/1500 [==============================] - 5s 3ms/step - loss: 7.4280e-06 - accuracy: 1.0000 - val_loss: 0.2021 - val_accuracy: 0.9793\n",
            "Epoch 37/50\n",
            "1500/1500 [==============================] - 5s 3ms/step - loss: 4.6858e-06 - accuracy: 1.0000 - val_loss: 0.2009 - val_accuracy: 0.9794\n",
            "Epoch 38/50\n",
            "1500/1500 [==============================] - 6s 4ms/step - loss: 3.0621e-06 - accuracy: 1.0000 - val_loss: 0.2025 - val_accuracy: 0.9794\n",
            "Epoch 39/50\n",
            "1500/1500 [==============================] - 5s 3ms/step - loss: 2.0027e-06 - accuracy: 1.0000 - val_loss: 0.2028 - val_accuracy: 0.9797\n",
            "Epoch 40/50\n",
            "1500/1500 [==============================] - 5s 3ms/step - loss: 1.4225e-06 - accuracy: 1.0000 - val_loss: 0.2030 - val_accuracy: 0.9798\n",
            "Epoch 41/50\n",
            "1500/1500 [==============================] - 5s 4ms/step - loss: 1.1820e-06 - accuracy: 1.0000 - val_loss: 0.2034 - val_accuracy: 0.9803\n",
            "Epoch 42/50\n",
            "1500/1500 [==============================] - 4s 3ms/step - loss: 0.0075 - accuracy: 0.9980 - val_loss: 0.2254 - val_accuracy: 0.9771\n",
            "Epoch 43/50\n",
            "1500/1500 [==============================] - 6s 4ms/step - loss: 0.0011 - accuracy: 0.9996 - val_loss: 0.2125 - val_accuracy: 0.9777\n",
            "Epoch 44/50\n",
            "1500/1500 [==============================] - 5s 3ms/step - loss: 0.0021 - accuracy: 0.9993 - val_loss: 0.2250 - val_accuracy: 0.9775\n",
            "Epoch 45/50\n",
            "1500/1500 [==============================] - 6s 4ms/step - loss: 0.0016 - accuracy: 0.9995 - val_loss: 0.2223 - val_accuracy: 0.9772\n",
            "Epoch 46/50\n",
            "1500/1500 [==============================] - 5s 3ms/step - loss: 0.0015 - accuracy: 0.9995 - val_loss: 0.2185 - val_accuracy: 0.9772\n",
            "Epoch 47/50\n",
            "1500/1500 [==============================] - 6s 4ms/step - loss: 0.0021 - accuracy: 0.9994 - val_loss: 0.2379 - val_accuracy: 0.9771\n",
            "Epoch 48/50\n",
            "1500/1500 [==============================] - 5s 3ms/step - loss: 0.0019 - accuracy: 0.9996 - val_loss: 0.2303 - val_accuracy: 0.9761\n",
            "Epoch 49/50\n",
            "1500/1500 [==============================] - 5s 3ms/step - loss: 0.0030 - accuracy: 0.9992 - val_loss: 0.2289 - val_accuracy: 0.9772\n",
            "Epoch 50/50\n",
            "1500/1500 [==============================] - 6s 4ms/step - loss: 0.0014 - accuracy: 0.9997 - val_loss: 0.2298 - val_accuracy: 0.9782\n"
          ]
        }
      ],
      "source": [
        "history = model.fit(\n",
        "    X_train,\n",
        "    y_train,\n",
        "    epochs=50,\n",
        "    validation_split=0.2\n",
        ")"
      ]
    },
    {
      "cell_type": "code",
      "execution_count": 21,
      "metadata": {
        "colab": {
          "base_uri": "https://localhost:8080/"
        },
        "id": "VPwb4f6bQ1X4",
        "outputId": "7d7cbc61-5de6-420c-a697-619cd5175f68"
      },
      "outputs": [
        {
          "output_type": "stream",
          "name": "stdout",
          "text": [
            "313/313 [==============================] - 0s 1ms/step\n"
          ]
        }
      ],
      "source": [
        "predicted = model.predict(X_test)"
      ]
    },
    {
      "cell_type": "code",
      "execution_count": 22,
      "metadata": {
        "colab": {
          "base_uri": "https://localhost:8080/"
        },
        "id": "CqU4diZdSrY3",
        "outputId": "bf0f50fe-6c6a-4abe-df32-74a5b21cbb13"
      },
      "outputs": [
        {
          "output_type": "execute_result",
          "data": {
            "text/plain": [
              "array([[2.69078024e-20, 1.37739103e-21, 1.21472345e-20, ...,\n",
              "        9.99999940e-01, 2.92054695e-20, 2.34223039e-17],\n",
              "       [1.40076857e-22, 1.34248013e-20, 9.99999940e-01, ...,\n",
              "        0.00000000e+00, 4.29110670e-19, 0.00000000e+00],\n",
              "       [3.48180740e-13, 9.99997675e-01, 2.29964634e-08, ...,\n",
              "        2.11454312e-06, 5.96622840e-08, 1.35717912e-18],\n",
              "       ...,\n",
              "       [1.71278371e-38, 3.85509003e-25, 1.69646442e-28, ...,\n",
              "        3.45752562e-18, 4.78037596e-20, 2.68057690e-12],\n",
              "       [2.57101884e-36, 2.52513843e-38, 0.00000000e+00, ...,\n",
              "        1.13207076e-33, 8.52308343e-19, 1.19663344e-37],\n",
              "       [1.79738013e-23, 8.17541178e-38, 7.74318156e-25, ...,\n",
              "        6.99086350e-35, 2.76627329e-24, 2.74222507e-38]], dtype=float32)"
            ]
          },
          "metadata": {},
          "execution_count": 22
        }
      ],
      "source": [
        "predicted"
      ]
    },
    {
      "cell_type": "code",
      "execution_count": 23,
      "metadata": {
        "id": "K46L1Vh_S1X4"
      },
      "outputs": [],
      "source": [
        "max_pred_val = predicted.argmax(axis=1)"
      ]
    },
    {
      "cell_type": "code",
      "execution_count": 24,
      "metadata": {
        "id": "opmfmboQS8RL"
      },
      "outputs": [],
      "source": [
        "from sklearn.metrics import accuracy_score"
      ]
    },
    {
      "cell_type": "code",
      "execution_count": 25,
      "metadata": {
        "colab": {
          "base_uri": "https://localhost:8080/"
        },
        "id": "WqTrkMd9TVZz",
        "outputId": "dd3ed781-cf4c-46c9-e56a-51d5bd46bd44"
      },
      "outputs": [
        {
          "output_type": "execute_result",
          "data": {
            "text/plain": [
              "0.9791"
            ]
          },
          "metadata": {},
          "execution_count": 25
        }
      ],
      "source": [
        "accuracy_score(y_test, max_pred_val)"
      ]
    },
    {
      "cell_type": "code",
      "execution_count": 27,
      "metadata": {
        "id": "TAHHaVvvTag6",
        "colab": {
          "base_uri": "https://localhost:8080/",
          "height": 282
        },
        "outputId": "2ea8fbdb-730d-45a2-dc2c-5b0d23e88ef3"
      },
      "outputs": [
        {
          "output_type": "execute_result",
          "data": {
            "text/plain": [
              "[<matplotlib.lines.Line2D at 0x7f2f0b39d310>]"
            ]
          },
          "metadata": {},
          "execution_count": 27
        },
        {
          "output_type": "display_data",
          "data": {
            "text/plain": [
              "<Figure size 432x288 with 1 Axes>"
            ],
            "image/png": "[encoded data removed]"
          },
          "metadata": {
            "needs_background": "light"
          }
        }
      ],
      "source": [
        "plt.plot(history.history['accuracy'])\n",
        "plt.plot(history.history['val_accuracy'])"
      ]
    },
    {
      "cell_type": "code",
      "source": [
        "plt.plot(history.history['loss'])\n",
        "plt.plot(history.history['val_loss'])"
      ],
      "metadata": {
        "colab": {
          "base_uri": "https://localhost:8080/",
          "height": 282
        },
        "id": "ek-cn27MnkyM",
        "outputId": "2b5da733-c022-4be1-b362-571365a43caa"
      },
      "execution_count": 28,
      "outputs": [
        {
          "output_type": "execute_result",
          "data": {
            "text/plain": [
              "[<matplotlib.lines.Line2D at 0x7f2f0f5fc5e0>]"
            ]
          },
          "metadata": {},
          "execution_count": 28
        },
        {
          "output_type": "display_data",
          "data": {
            "text/plain": [
              "<Figure size 432x288 with 1 Axes>"
            ],
            "image/png": "[encoded data removed]"
          },
          "metadata": {
            "needs_background": "light"
          }
        }
      ]
    },
    {
      "cell_type": "code",
      "source": [
        "plt.imshow(X_test[3])"
      ],
      "metadata": {
        "colab": {
          "base_uri": "https://localhost:8080/",
          "height": 282
        },
        "id": "K9P5VisforDX",
        "outputId": "53591d75-0974-4ef7-a6d7-b34c9ce40c54"
      },
      "execution_count": 36,
      "outputs": [
        {
          "output_type": "execute_result",
          "data": {
            "text/plain": [
              "<matplotlib.image.AxesImage at 0x7f2f0f28fca0>"
            ]
          },
          "metadata": {},
          "execution_count": 36
        },
        {
          "output_type": "display_data",
          "data": {
            "text/plain": [
              "<Figure size 432x288 with 1 Axes>"
            ],
            "image/png": "[encoded data removed]"
          },
          "metadata": {
            "needs_background": "light"
          }
        }
      ]
    },
    {
      "cell_type": "code",
      "source": [
        "model.predict(X_test[3]).argmax(axis=1)"
      ],
      "metadata": {
        "colab": {
          "base_uri": "https://localhost:8080/"
        },
        "id": "VyYLU9kUpImx",
        "outputId": "01f14972-d35f-47b0-db15-6f741867b121"
      },
      "execution_count": 37,
      "outputs": [
        {
          "output_type": "stream",
          "name": "stdout",
          "text": [
            "1/1 [==============================] - 0s 22ms/step\n"
          ]
        },
        {
          "output_type": "execute_result",
          "data": {
            "text/plain": [
              "array([0])"
            ]
          },
          "metadata": {},
          "execution_count": 37
        }
      ]
    }
  ],
  "metadata": {
    "colab": {
      "provenance": []
    },
    "kernelspec": {
      "display_name": "Python 3",
      "name": "python3"
    },
    "language_info": {
      "name": "python"
    }
  },
  "nbformat": 4,
  "nbformat_minor": 0
}